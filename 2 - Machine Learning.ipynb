{
 "cells": [
  {
   "cell_type": "markdown",
   "metadata": {},
   "source": [
    "# Machine Learning\n",
    "\n",
    "Machine learning can be broadly categorized into two : Supervised and Unsuperwised. \n",
    "\n",
    "In supervised learning, the output datasets are provided which are used to train the machine and get the desired outputs whereas in unsupervised learning no datasets are provided, instead the data is clustered into different classes . \n",
    "\n",
    "Let's try to understand this with an example.\n",
    "Let's say two friendly aliens A1 & A2 come to visit us, and they know nothing about the flowers on earth.\n",
    "Say you are given a big boquet of 100 flowers of 4 types and you have to ask the aliens to differentiate them into 4 separate buckets.\n",
    "To alien A1 you show him 1 rose, 1 sunflower, 1 iris and 1 lily, we inform him what they are and he memorizes them. He memorizes the petal & sepal sizes, the petal & sepal shapes, possible colors etc. So now we 'trained' him with those 4 flowers. Now we give him 50 flowers from the bouquet and he sorts them into 4 buckets based on what he had 'learned' . This is called **'supervised learning'**\n",
    "Alien A2 doesn't get the privilege of being 'trained'. To him we just give the 50 flowers. He isn't too dumb himself. He first looks at all the flowers, and observes that some flowers are yellow, some are red and the rest are shades of blue. But turns out one shade of blue has unique type of petals and stamen, while the other shade of blue has kind of dorky petals. He differentiates the flowers into 4 categories by learning on his own. This is called **'Unsupervised learning'**"
   ]
  },
  {
   "cell_type": "code",
   "execution_count": null,
   "metadata": {
    "collapsed": true
   },
   "outputs": [],
   "source": []
  }
 ],
 "metadata": {
  "kernelspec": {
   "display_name": "Python 2",
   "language": "python",
   "name": "python2"
  },
  "language_info": {
   "codemirror_mode": {
    "name": "ipython",
    "version": 2
   },
   "file_extension": ".py",
   "mimetype": "text/x-python",
   "name": "python",
   "nbconvert_exporter": "python",
   "pygments_lexer": "ipython2",
   "version": "2.7.13"
  }
 },
 "nbformat": 4,
 "nbformat_minor": 2
}
