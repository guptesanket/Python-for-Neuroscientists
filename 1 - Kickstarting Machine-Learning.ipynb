{
 "cells": [
  {
   "cell_type": "markdown",
   "metadata": {},
   "source": [
    "# 1. IDE for Python"
   ]
  },
  {
   "cell_type": "markdown",
   "metadata": {},
   "source": [
    "I personally use [Spyder](https://pythonhosted.org/spyder/) for developing long scripts and programs.\n",
    "I also like [ipython](https://ipython.org/) for some quick interactive scripts. Especially when I am testing out some functions or debugging\n",
    "For servers/computers where I need different versions of python (for e.g. Python 2.7 and Python 3.5 ) or different versions of specific library/ies then [Anaconda](https://www.continuum.io/downloads) is really amazing.\n",
    "\n",
    "So, if you are starting with python for the first time, instead of getting these packages individually, start with Anaconda - it's got all the cool stuff with the whole shaband"
   ]
  },
  {
   "cell_type": "markdown",
   "metadata": {},
   "source": [
    "# 2. Let's do a quick check of your environment"
   ]
  },
  {
   "cell_type": "markdown",
   "metadata": {},
   "source": [
    "While we will be working in python 2.x but once/if the required libraries are available in python 3.x then except for minor syntax changes this would work as well."
   ]
  },
  {
   "cell_type": "markdown",
   "metadata": {},
   "source": [
    "## Test Python"
   ]
  },
  {
   "cell_type": "markdown",
   "metadata": {},
   "source": [
    "Let's verify the python version first"
   ]
  },
  {
   "cell_type": "code",
   "execution_count": null,
   "metadata": {
    "collapsed": true
   },
   "outputs": [],
   "source": [
    "import sys\n",
    "print('Python: {}'.format(sys.version))"
   ]
  },
  {
   "cell_type": "markdown",
   "metadata": {},
   "source": [
    "## Test Required Libraries"
   ]
  },
  {
   "cell_type": "markdown",
   "metadata": {},
   "source": [
    "Checking our required libraries"
   ]
  },
  {
   "cell_type": "code",
   "execution_count": null,
   "metadata": {
    "collapsed": false
   },
   "outputs": [],
   "source": [
    "# Check Scipy\n",
    "import scipy\n",
    "print('scipy: {}'.format(scipy.__version__))\n",
    "# Check Numpy\n",
    "import numpy\n",
    "print('numpy: {}'.format(numpy.__version__))\n",
    "# Check Matplotlib\n",
    "import matplotlib\n",
    "print('matplotlib: {}'.format(matplotlib.__version__))\n",
    "# Check Pandas\n",
    "import pandas\n",
    "print('pandas: {}'.format(pandas.__version__))\n",
    "# Check Scikit-learn\n",
    "import sklearn\n",
    "print('sklearn: {}'.format(sklearn.__version__))"
   ]
  },
  {
   "cell_type": "markdown",
   "metadata": {},
   "source": [
    "If you get an import error **ImportError: No module named XXX**, you might need to install those libraries."
   ]
  },
  {
   "cell_type": "markdown",
   "metadata": {},
   "source": [
    "You can check out the details about each of the libraries on their respective websites, but a quick 1 line summary of most of fun the packages that you would need is given below:\n",
    "\n",
    "* [Numpy](http://www.numpy.org/): You can't live without this package. If not directly, you may indirectly use this package, since many other libraries use it.\n",
    "* [Matplotlib](http://matplotlib.org/): 2D plotting library for making fancy graphs from data.\n",
    "* [Pandas](http://pandas.pydata.org/): Python Data analysis library - Provides high-performance, easy-to-use data structures and data analysis tools.\n",
    "* [Seaborn](http://seaborn.pydata.org/): Visualization library based on matplotlib. It provides a high-level interface for drawing attractive statistical graphics.\n",
    "* [SciPy stack](https://www.scipy.org/): This is a combination of a few different packages used primarily in science, mathematics and engineering. Among others, it has Numpy, matplotlib, ipython, pandas etc.\n",
    "* [Scikit Learn](http://scikit-learn.org/stable/): Simple and efficient tools for data mining and data analysis\n",
    "* [pymatbridge](https://pypi.python.org/pypi/pymatbridge): Set of python and matlab functions to allow these two systems to talk to each other\n",
    "* [Brian](http://briansimulator.org/): Simulator for spiking neural networks\n"
   ]
  },
  {
   "cell_type": "markdown",
   "metadata": {},
   "source": [
    "# 3. Loading data "
   ]
  },
  {
   "cell_type": "markdown",
   "metadata": {},
   "source": [
    "## From an online dataset into Pandas. "
   ]
  },
  {
   "cell_type": "code",
   "execution_count": null,
   "metadata": {
    "collapsed": true
   },
   "outputs": [],
   "source": [
    "# Load Iris dataset from UCI website\n",
    "url = \"https://archive.ics.uci.edu/ml/machine-learning-databases/iris/iris.data\"\n",
    "names = ['sepal-length', 'sepal-width', 'petal-length', 'petal-width', 'class']\n",
    "dataset = pandas.read_csv(url, names=names)"
   ]
  },
  {
   "cell_type": "markdown",
   "metadata": {},
   "source": [
    "The read_csv method is used to read csv directly\n",
    "The UCI dataset didn't have column names so we explicitly specified it using the 'names' variable.\n",
    "You can also load the sample R datasets from [here](https://vincentarelbundock.github.io/Rdatasets/datasets.html) for test/practice, the same way."
   ]
  },
  {
   "cell_type": "markdown",
   "metadata": {},
   "source": [
    "## From sklearn package"
   ]
  },
  {
   "cell_type": "code",
   "execution_count": null,
   "metadata": {
    "collapsed": true
   },
   "outputs": [],
   "source": [
    "from sklearn.datasets import load_iris\n",
    "iris = load_iris()\n",
    "data = iris.data\n",
    "column_names = iris.feature_names"
   ]
  },
  {
   "cell_type": "markdown",
   "metadata": {},
   "source": [
    "You can load this data into a Pandas dataframe"
   ]
  },
  {
   "cell_type": "code",
   "execution_count": null,
   "metadata": {
    "collapsed": true
   },
   "outputs": [],
   "source": [
    "df = pandas.DataFrame(iris.data, iris.feature_names)"
   ]
  },
  {
   "cell_type": "markdown",
   "metadata": {},
   "source": [
    "## Using Seaborn package"
   ]
  },
  {
   "cell_type": "markdown",
   "metadata": {},
   "source": [
    "[Seaborn](https://seaborn.pydata.org/) is primarily a visualization library, to draw fancy statistical graphics but can also be used to load datasets"
   ]
  },
  {
   "cell_type": "code",
   "execution_count": null,
   "metadata": {
    "collapsed": true
   },
   "outputs": [],
   "source": [
    "import seaborn.apionly as sns\n",
    "iris = sns.load_dataset('iris')"
   ]
  }
 ],
 "metadata": {
  "kernelspec": {
   "display_name": "Python 3",
   "language": "python",
   "name": "python3"
  },
  "language_info": {
   "codemirror_mode": {
    "name": "ipython",
    "version": 3
   },
   "file_extension": ".py",
   "mimetype": "text/x-python",
   "name": "python",
   "nbconvert_exporter": "python",
   "pygments_lexer": "ipython3",
   "version": "3.6.0"
  }
 },
 "nbformat": 4,
 "nbformat_minor": 2
}
